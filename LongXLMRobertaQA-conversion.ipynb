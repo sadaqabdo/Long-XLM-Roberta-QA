{
 "cells": [
  {
   "cell_type": "code",
   "execution_count": null,
   "metadata": {
    "colab": {
     "base_uri": "https://localhost:8080/"
    },
    "id": "o3yjIYKXw3rL",
    "outputId": "0db38b6f-43a6-4a3c-9121-3084d3d80869"
   },
   "outputs": [
    {
     "name": "stdout",
     "output_type": "stream",
     "text": [
      "\u001b[2K     \u001b[90m━━━━━━━━━━━━━━━━━━━━━━━━━━━━━━━━━━━━━━━━\u001b[0m \u001b[32m6.8/6.8 MB\u001b[0m \u001b[31m23.3 MB/s\u001b[0m eta \u001b[36m0:00:00\u001b[0m\n",
      "\u001b[2K     \u001b[90m━━━━━━━━━━━━━━━━━━━━━━━━━━━━━━━━━━━━━━━━\u001b[0m \u001b[32m1.3/1.3 MB\u001b[0m \u001b[31m43.0 MB/s\u001b[0m eta \u001b[36m0:00:00\u001b[0m\n",
      "\u001b[2K     \u001b[90m━━━━━━━━━━━━━━━━━━━━━━━━━━━━━━━━━━━━━━\u001b[0m \u001b[32m199.8/199.8 KB\u001b[0m \u001b[31m11.7 MB/s\u001b[0m eta \u001b[36m0:00:00\u001b[0m\n",
      "\u001b[2K     \u001b[90m━━━━━━━━━━━━━━━━━━━━━━━━━━━━━━━━━━━━━━━━\u001b[0m \u001b[32m7.6/7.6 MB\u001b[0m \u001b[31m68.3 MB/s\u001b[0m eta \u001b[36m0:00:00\u001b[0m\n",
      "\u001b[?25h"
     ]
    }
   ],
   "source": [
    "!pip install transformers sentencepiece -q"
   ]
  },
  {
   "cell_type": "code",
   "execution_count": null,
   "metadata": {
    "colab": {
     "base_uri": "https://localhost:8080/"
    },
    "id": "S2JuwnVyFUHo",
    "outputId": "2e38cb09-d189-4a09-826e-f3c9a28f624c"
   },
   "outputs": [
    {
     "name": "stdout",
     "output_type": "stream",
     "text": [
      "Mounted at /content/drive\n"
     ]
    }
   ],
   "source": [
    "from google.colab import drive\n",
    "\n",
    "drive.mount(\"/content/drive\")"
   ]
  },
  {
   "cell_type": "code",
   "execution_count": null,
   "metadata": {
    "id": "U0NnMMl6wy7Q"
   },
   "outputs": [],
   "source": [
    "import copy\n",
    "import torch\n",
    "from torch import nn\n",
    "\n",
    "from transformers import (\n",
    "    XLMRobertaForQuestionAnswering,\n",
    "    XLMRobertaTokenizerFast,\n",
    "    XLMRobertaModel,\n",
    ")\n",
    "from transformers.models.longformer import LongformerSelfAttention\n",
    "\n",
    "device = \"cuda\" if torch.cuda.is_available() else \"cpu\""
   ]
  },
  {
   "cell_type": "markdown",
   "metadata": {
    "id": "aad_1s7ybD5o"
   },
   "source": [
    "# XLMRobertaLongForQuestionAnswering"
   ]
  },
  {
   "cell_type": "markdown",
   "metadata": {
    "id": "xgoNVJYUbD59"
   },
   "source": [
    "`XLMRobertaLongForQuestionAnswering` represents the \"long\" version of the `XLMRobertaForQuestionAnswering` model. \n",
    "\n",
    "It replaces `BertSelfAttention` with `XLMRobertaLongSelfAttention`, which is a thin wrapper around `LongformerSelfAttention`.\n"
   ]
  },
  {
   "cell_type": "code",
   "execution_count": null,
   "metadata": {
    "id": "i3SDIH0R442Y"
   },
   "outputs": [],
   "source": [
    "class XLMRobertaLongSelfAttention(LongformerSelfAttention):\n",
    "    def forward(\n",
    "        self,\n",
    "        hidden_states,\n",
    "        attention_mask=None,\n",
    "        head_mask=None,\n",
    "        encoder_hidden_states=None,\n",
    "        encoder_attention_mask=None,\n",
    "        past_key_value=None,\n",
    "        output_attentions=False,\n",
    "    ):\n",
    "        \"\"\"\n",
    "        :class:`LongformerSelfAttention` expects `len(hidden_states)` to be multiple of `attention_window`. Padding to\n",
    "        `attention_window` happens in :meth:`LongformerModel.forward` to avoid redoing the padding on each layer.\n",
    "\n",
    "        Modified LongformerSelfAttention layer to work with RoBERTa models. They have different set of arguments\n",
    "        compared to original Longformer attention: RoBERTa is passing some additional arguments and arguments required\n",
    "        by LongformerSelfAttention are missing so we have to add it manually.\n",
    "\n",
    "        The `attention_mask` is changed in :meth:`LongformerModel.forward` from 0, 1, 2 to:\n",
    "\n",
    "            * -10000: no attention\n",
    "            * 0: local attention\n",
    "            * +10000: global attention\n",
    "        \"\"\"\n",
    "        hidden_states = hidden_states.transpose(0, 1)\n",
    "\n",
    "        # project hidden states\n",
    "        query_vectors = self.query(hidden_states)\n",
    "        key_vectors = self.key(hidden_states)\n",
    "        value_vectors = self.value(hidden_states)\n",
    "\n",
    "        ## Lines below has been changed\n",
    "\n",
    "        attention_mask = attention_mask.squeeze(dim=2).squeeze(dim=1)\n",
    "\n",
    "        # is index masked or global attention\n",
    "        is_index_masked = attention_mask < 0\n",
    "        is_index_global_attn = attention_mask > 0\n",
    "        is_global_attn = any(is_index_global_attn.flatten())\n",
    "\n",
    "        ## End of modification\n",
    "\n",
    "        seq_len, batch_size, embed_dim = hidden_states.size()\n",
    "        assert (\n",
    "            embed_dim == self.embed_dim\n",
    "        ), f\"hidden_states should have embed_dim = {self.embed_dim}, but has {embed_dim}\"\n",
    "\n",
    "        # normalize query\n",
    "        query_vectors /= math.sqrt(self.head_dim)\n",
    "\n",
    "        query_vectors = query_vectors.view(\n",
    "            seq_len, batch_size, self.num_heads, self.head_dim\n",
    "        ).transpose(0, 1)\n",
    "        key_vectors = key_vectors.view(\n",
    "            seq_len, batch_size, self.num_heads, self.head_dim\n",
    "        ).transpose(0, 1)\n",
    "\n",
    "        attn_scores = self._sliding_chunks_query_key_matmul(\n",
    "            query_vectors, key_vectors, self.one_sided_attn_window_size\n",
    "        )\n",
    "\n",
    "        # values to pad for attention probs\n",
    "\n",
    "        ## Lines below has been changed\n",
    "\n",
    "        remove_from_windowed_attention_mask = (\n",
    "            (attention_mask != 0).unsqueeze(dim=-1).unsqueeze(dim=-1)\n",
    "        )\n",
    "\n",
    "        ## End of modification\n",
    "\n",
    "        # cast to fp32/fp16 then replace 1's with -inf\n",
    "        float_mask = remove_from_windowed_attention_mask.type_as(\n",
    "            query_vectors\n",
    "        ).masked_fill(remove_from_windowed_attention_mask, -10000.0)\n",
    "        # diagonal mask with zeros everywhere and -inf inplace of padding\n",
    "        diagonal_mask = self._sliding_chunks_query_key_matmul(\n",
    "            float_mask.new_ones(size=float_mask.size()),\n",
    "            float_mask,\n",
    "            self.one_sided_attn_window_size,\n",
    "        )\n",
    "\n",
    "        # pad local attention probs\n",
    "        attn_scores += diagonal_mask\n",
    "\n",
    "        assert list(attn_scores.size()) == [\n",
    "            batch_size,\n",
    "            seq_len,\n",
    "            self.num_heads,\n",
    "            self.one_sided_attn_window_size * 2 + 1,\n",
    "        ], f\"local_attn_probs should be of size ({batch_size}, {seq_len}, {self.num_heads}, {self.one_sided_attn_window_size * 2 + 1}), but is of size {attn_scores.size()}\"\n",
    "\n",
    "        # compute local attention probs from global attention keys and contact over window dim\n",
    "        if is_global_attn:\n",
    "            # compute global attn indices required through out forward fn\n",
    "            (\n",
    "                max_num_global_attn_indices,\n",
    "                is_index_global_attn_nonzero,\n",
    "                is_local_index_global_attn_nonzero,\n",
    "                is_local_index_no_global_attn_nonzero,\n",
    "            ) = self._get_global_attn_indices(is_index_global_attn)\n",
    "            # calculate global attn probs from global key\n",
    "\n",
    "            global_key_attn_scores = self._concat_with_global_key_attn_probs(\n",
    "                query_vectors=query_vectors,\n",
    "                key_vectors=key_vectors,\n",
    "                max_num_global_attn_indices=max_num_global_attn_indices,\n",
    "                is_index_global_attn_nonzero=is_index_global_attn_nonzero,\n",
    "                is_local_index_global_attn_nonzero=is_local_index_global_attn_nonzero,\n",
    "                is_local_index_no_global_attn_nonzero=is_local_index_no_global_attn_nonzero,\n",
    "            )\n",
    "            # concat to local_attn_probs\n",
    "            # (batch_size, seq_len, num_heads, extra attention count + 2*window+1)\n",
    "            attn_scores = torch.cat((global_key_attn_scores, attn_scores), dim=-1)\n",
    "\n",
    "            # free memory\n",
    "            del global_key_attn_scores\n",
    "\n",
    "        attn_probs = F.softmax(\n",
    "            attn_scores, dim=-1, dtype=torch.float32\n",
    "        )  # use fp32 for numerical stability\n",
    "\n",
    "        # softmax sometimes inserts NaN if all positions are masked, replace them with 0\n",
    "        attn_probs = torch.masked_fill(\n",
    "            attn_probs, is_index_masked[:, :, None, None], 0.0\n",
    "        )\n",
    "        attn_probs = attn_probs.type_as(attn_scores)\n",
    "\n",
    "        # free memory\n",
    "        del attn_scores\n",
    "\n",
    "        # apply dropout\n",
    "        attn_probs = F.dropout(attn_probs, p=self.dropout, training=self.training)\n",
    "\n",
    "        value_vectors = value_vectors.view(\n",
    "            seq_len, batch_size, self.num_heads, self.head_dim\n",
    "        ).transpose(0, 1)\n",
    "\n",
    "        # compute local attention output with global attention value and add\n",
    "        if is_global_attn:\n",
    "            # compute sum of global and local attn\n",
    "            attn_output = self._compute_attn_output_with_global_indices(\n",
    "                value_vectors=value_vectors,\n",
    "                attn_probs=attn_probs,\n",
    "                max_num_global_attn_indices=max_num_global_attn_indices,\n",
    "                is_index_global_attn_nonzero=is_index_global_attn_nonzero,\n",
    "                is_local_index_global_attn_nonzero=is_local_index_global_attn_nonzero,\n",
    "            )\n",
    "        else:\n",
    "            # compute local attn only\n",
    "            attn_output = self._sliding_chunks_matmul_attn_probs_value(\n",
    "                attn_probs, value_vectors, self.one_sided_attn_window_size\n",
    "            )\n",
    "\n",
    "        assert attn_output.size() == (\n",
    "            batch_size,\n",
    "            seq_len,\n",
    "            self.num_heads,\n",
    "            self.head_dim,\n",
    "        ), \"Unexpected size\"\n",
    "        attn_output = (\n",
    "            attn_output.transpose(0, 1)\n",
    "            .reshape(seq_len, batch_size, embed_dim)\n",
    "            .contiguous()\n",
    "        )\n",
    "\n",
    "        # compute value for global attention and overwrite to attention output\n",
    "        # TODO: remove the redundant computation\n",
    "        if is_global_attn:\n",
    "            (\n",
    "                global_attn_output,\n",
    "                global_attn_probs,\n",
    "            ) = self._compute_global_attn_output_from_hidden(\n",
    "                hidden_states=hidden_states,\n",
    "                max_num_global_attn_indices=max_num_global_attn_indices,\n",
    "                is_local_index_global_attn_nonzero=is_local_index_global_attn_nonzero,\n",
    "                is_index_global_attn_nonzero=is_index_global_attn_nonzero,\n",
    "                is_local_index_no_global_attn_nonzero=is_local_index_no_global_attn_nonzero,\n",
    "                is_index_masked=is_index_masked,\n",
    "            )\n",
    "\n",
    "            # get only non zero global attn output\n",
    "            nonzero_global_attn_output = global_attn_output[\n",
    "                is_local_index_global_attn_nonzero[0],\n",
    "                :,\n",
    "                is_local_index_global_attn_nonzero[1],\n",
    "            ]\n",
    "\n",
    "            # overwrite values with global attention\n",
    "            attn_output[\n",
    "                is_index_global_attn_nonzero[::-1]\n",
    "            ] = nonzero_global_attn_output.view(\n",
    "                len(is_local_index_global_attn_nonzero[0]), -1\n",
    "            )\n",
    "            # The attention weights for tokens with global attention are\n",
    "            # just filler values, they were never used to compute the output.\n",
    "            # Fill with 0 now, the correct values are in 'global_attn_probs'.\n",
    "            attn_probs[is_index_global_attn_nonzero] = 0\n",
    "\n",
    "        outputs = (attn_output.transpose(0, 1),)\n",
    "\n",
    "        if output_attentions:\n",
    "            outputs += (attn_probs,)\n",
    "\n",
    "        return (\n",
    "            outputs + (global_attn_probs,)\n",
    "            if (is_global_attn and output_attentions)\n",
    "            else outputs\n",
    "        )\n",
    "\n",
    "\n",
    "class XLMRobertaLongForQuestionAnswering(XLMRobertaForQuestionAnswering):\n",
    "    def __init__(self, config):\n",
    "        super().__init__(config)\n",
    "        for i, layer in enumerate(self.roberta.encoder.layer):\n",
    "            # replace the `modeling_xlmroberta.XLMRobertaAttention` object with `XLMRobertaLongSelfAttention`\n",
    "            layer.attention.self = XLMRobertaLongSelfAttention(config, layer_id=i)"
   ]
  },
  {
   "cell_type": "markdown",
   "metadata": {
    "id": "4LRZa5s1bD6E"
   },
   "source": [
    "Starting from the `roberta-base` checkpoint, the following function converts it into an instance of `RobertaLong`. It makes the following changes:\n",
    "\n",
    "- extend the position embeddings from `512` positions to `max_pos`. In Longformer, we set `max_pos=4096`\n",
    "![image.png](data:image/png;base64,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)\n",
    "- initialize the additional position embeddings by copying the embeddings of the first `512` positions. This initialization is crucial for the model performance (check table 6 in [the paper](https://arxiv.org/pdf/2004.05150.pdf) for performance without this initialization)\n",
    "\n",
    "- replaces `BertSelfAttention` objects with `LongformerSelfAttention` with a attention window size `attention_window`"
   ]
  },
  {
   "cell_type": "markdown",
   "metadata": {
    "id": "o9SHBXFlCR2u"
   },
   "source": [
    "The output of this function works for long documents even without pretraining. Check tables 6 and 11 in [the paper](https://arxiv.org/pdf/2004.05150.pdf) to get a sense of the expected performance of this model before pretraining."
   ]
  },
  {
   "cell_type": "markdown",
   "metadata": {
    "id": "3fark2Kx2CPL"
   },
   "source": [
    "# Conversion"
   ]
  },
  {
   "cell_type": "code",
   "execution_count": null,
   "metadata": {
    "colab": {
     "base_uri": "https://localhost:8080/",
     "height": 177,
     "referenced_widgets": [
      "3ee3c92a435843abbae034946b441c80",
      "980595ee1e90468d9ded801df9f228d3",
      "affb7ce89e834ff7994930e15e1d3de7",
      "2178ebb93f0245009861a3bd2782d524",
      "c7d6af17bed44ab0bfcc571a9c93a7e3",
      "e4bae6f330b14551913444f107f57b83",
      "2886b3bb6f1347318feb07be7887a93a",
      "5cd81d87bc094a71a2656737ac729864",
      "4ae1c87c454f49d988a5ff2c904f741e",
      "794f31bd43b54a46a8e8f2b370e53d98",
      "028922d0be064d50bae2ca51b8d7cea5",
      "b197d150d8c1472aa63ae955f00674bb",
      "bf329fd752134b60b61f38a81dd951d0",
      "038556544daf4c63a4ae39c6e76653d7",
      "88c55c81e424489aa140e9b70ec3131b",
      "4ed37699681d4e60b52551148784c801",
      "74c373d40fce4dccbbf64af2f1dcac1f",
      "48e97d5ad5a94c318bc40c8c8504fa01",
      "8eaab1e7b2c24f8a924a6df3e09477b3",
      "1057397d832340e4a92355f81938afcf",
      "96fd93a31b6547669a69a1b717ea946d",
      "835c7ea07aa94c3fb7f3ae826b782c88",
      "7790b78769d141619eb702c09ed6148e",
      "76b9b0aa2eb64defa8062ddb1a8d1f90",
      "77023ad677e34e6b8bc8a4484fa5e5ab",
      "8e6493f95bf5418c96d1771223ae913a",
      "29556d8c1bbf4b74880a41f78c99031e",
      "1b229849cd374138b4f9599dd59eb836",
      "4427b9e27c4a435b9fe58acbbb47ece9",
      "d2a4d99eb650404c9a620c8b705dde51",
      "0e3131b8f7054512b50c8e16108dec2a",
      "e4f28072de714abda8549757f610a573",
      "10f0fa20a30c464aabbc86aa96466fdf",
      "97c272f30ef84b73ad7e60748bd6d431",
      "c96eee2443584b7b91ef3927a236474b",
      "5306911bfaf34a25a4844d7a864ccfb0",
      "ac95f2b379f5435393a9821584c27f17",
      "bc151e58a83a48a3bd79c006afd1ecb9",
      "7b75b8645afd416d9966f2339eee93ac",
      "b35b861fb317405ab14bd97c34b58f6d",
      "b36c7cbfc6574f4aa33e752981a11dd4",
      "949b408bb7e649ce9fa66fcf49e34227",
      "5aab475e368343c3a033f176954d5c29",
      "cc26dd2679b443ad940dd2ff539aa070",
      "4ec0f1c136ad4fb78dc596d730c33bf2",
      "63fbb2f38de647b3ab28c6c844492e01",
      "3f919d9b5fcd48cc98c49383c550e4ca",
      "4f3b9f818fc34c038371b83fcde0e53c",
      "87727e9906d14f1f99b52adbc4d88e0b",
      "f0ac60e7e9c14d2aa6f5662e7b973232",
      "68b77816ba2c4596bffac685f74e8ef4",
      "ec749640c0414f20850acc22bf9c8132",
      "3c65303f8e1b4ffba51636116f011b09",
      "d6fd08651d7d4609827ec1b414069361",
      "f13551897baa44ad98c2151de38c1158"
     ]
    },
    "id": "JmJI8Ub63ABb",
    "outputId": "7a8e07d2-8aaa-4364-9c2c-9c8b4bcc145a"
   },
   "outputs": [
    {
     "data": {
      "application/vnd.jupyter.widget-view+json": {
       "model_id": "3ee3c92a435843abbae034946b441c80",
       "version_major": 2,
       "version_minor": 0
      },
      "text/plain": [
       "Downloading (…)lve/main/config.json:   0%|          | 0.00/605 [00:00<?, ?B/s]"
      ]
     },
     "metadata": {},
     "output_type": "display_data"
    },
    {
     "data": {
      "application/vnd.jupyter.widget-view+json": {
       "model_id": "b197d150d8c1472aa63ae955f00674bb",
       "version_major": 2,
       "version_minor": 0
      },
      "text/plain": [
       "Downloading pytorch_model.bin:   0%|          | 0.00/1.11G [00:00<?, ?B/s]"
      ]
     },
     "metadata": {},
     "output_type": "display_data"
    },
    {
     "data": {
      "application/vnd.jupyter.widget-view+json": {
       "model_id": "7790b78769d141619eb702c09ed6148e",
       "version_major": 2,
       "version_minor": 0
      },
      "text/plain": [
       "Downloading (…)okenizer_config.json:   0%|          | 0.00/79.0 [00:00<?, ?B/s]"
      ]
     },
     "metadata": {},
     "output_type": "display_data"
    },
    {
     "data": {
      "application/vnd.jupyter.widget-view+json": {
       "model_id": "97c272f30ef84b73ad7e60748bd6d431",
       "version_major": 2,
       "version_minor": 0
      },
      "text/plain": [
       "Downloading (…)tencepiece.bpe.model:   0%|          | 0.00/5.07M [00:00<?, ?B/s]"
      ]
     },
     "metadata": {},
     "output_type": "display_data"
    },
    {
     "data": {
      "application/vnd.jupyter.widget-view+json": {
       "model_id": "4ec0f1c136ad4fb78dc596d730c33bf2",
       "version_major": 2,
       "version_minor": 0
      },
      "text/plain": [
       "Downloading (…)cial_tokens_map.json:   0%|          | 0.00/150 [00:00<?, ?B/s]"
      ]
     },
     "metadata": {},
     "output_type": "display_data"
    }
   ],
   "source": [
    "model_name = \"deepset/xlm-roberta-base-squad2\"\n",
    "attention_window = 256  # 512\n",
    "max_pos = 4096  # 512 * 8\n",
    "\n",
    "\n",
    "model = XLMRobertaForQuestionAnswering.from_pretrained(\n",
    "    model_name, gradient_checkpointing=True\n",
    ")\n",
    "tokenizer = XLMRobertaTokenizerFast.from_pretrained(\n",
    "    model_name, model_max_length=max_pos\n",
    ")\n",
    "config = model.config"
   ]
  },
  {
   "cell_type": "code",
   "execution_count": null,
   "metadata": {
    "id": "L6eGtGifyjAl"
   },
   "outputs": [],
   "source": [
    "# extend position embeddings of the tokenizer\n",
    "tokenizer.model_max_length = max_pos\n",
    "tokenizer.init_kwargs[\"model_max_length\"] = max_pos\n",
    "current_max_pos, embed_size = model.roberta.embeddings.position_embeddings.weight.shape"
   ]
  },
  {
   "cell_type": "code",
   "execution_count": null,
   "metadata": {
    "id": "tW396wgSyi4o"
   },
   "outputs": [],
   "source": [
    "max_pos += (\n",
    "    2  # NOTE: RoBERTa has positions 0,1 reserved, so embedding size is max position + 2\n",
    ")\n",
    "config.max_position_embeddings = max_pos\n",
    "assert max_pos > current_max_pos\n",
    "\n",
    "# allocate a larger position embedding matrix\n",
    "new_pos_embed = model.roberta.embeddings.position_embeddings.weight.new_zeros(\n",
    "    max_pos, embed_size\n",
    ")\n",
    "\n",
    "# copy position embeddings over and over to initialize the new position embeddings\n",
    "k = 2\n",
    "step = current_max_pos - 2\n",
    "while k < max_pos - 1:\n",
    "    new_pos_embed[k : (k + step)] = model.roberta.embeddings.position_embeddings.weight[\n",
    "        2:\n",
    "    ]\n",
    "    k += step\n",
    "model.roberta.embeddings.position_embeddings.weight.data = new_pos_embed\n",
    "model.roberta.embeddings.position_embeddings.num_embeddings = len(new_pos_embed.data)\n",
    "\n",
    "num_model_embeddings = model.roberta.embeddings.position_embeddings.num_embeddings\n",
    "model.roberta.embeddings.position_ids = torch.arange(0, num_model_embeddings)[None]\n",
    "\n",
    "model.roberta.embeddings.position_ids.data = torch.tensor(\n",
    "    [i for i in range(max_pos)]\n",
    ").reshape(1, max_pos)"
   ]
  },
  {
   "cell_type": "code",
   "execution_count": null,
   "metadata": {
    "id": "XNu2YIA60yTU"
   },
   "outputs": [],
   "source": [
    "# replace the `modeling_bert.BertSelfAttention` object with `LongformerSelfAttention`\n",
    "config.attention_window = [attention_window] * config.num_hidden_layers\n",
    "\n",
    "for i, layer in enumerate(model.roberta.encoder.layer):\n",
    "    longformer_self_attn = XLMRobertaLongSelfAttention(config, layer_id=i)\n",
    "    longformer_self_attn.query = copy.deepcopy(layer.attention.self.query)\n",
    "    longformer_self_attn.key = copy.deepcopy(layer.attention.self.key)\n",
    "    longformer_self_attn.value = copy.deepcopy(layer.attention.self.value)\n",
    "\n",
    "    longformer_self_attn.query_global = copy.deepcopy(layer.attention.self.query)\n",
    "    longformer_self_attn.key_global = copy.deepcopy(layer.attention.self.key)\n",
    "    longformer_self_attn.value_global = copy.deepcopy(layer.attention.self.value)\n",
    "\n",
    "    layer.attention.self = longformer_self_attn"
   ]
  },
  {
   "cell_type": "code",
   "execution_count": null,
   "metadata": {
    "colab": {
     "base_uri": "https://localhost:8080/"
    },
    "id": "WCAgqo9003gm",
    "outputId": "9e7f6f37-456d-4fa0-c0c5-da45e22aa934"
   },
   "outputs": [
    {
     "data": {
      "text/plain": [
       "([256, 256, 256, 256, 256, 256, 256, 256, 256, 256, 256, 256], 12)"
      ]
     },
     "execution_count": 9,
     "metadata": {},
     "output_type": "execute_result"
    }
   ],
   "source": [
    "config.attention_window, len(config.attention_window)"
   ]
  },
  {
   "cell_type": "code",
   "execution_count": null,
   "metadata": {
    "colab": {
     "base_uri": "https://localhost:8080/"
    },
    "id": "L5OdPr6I1NKh",
    "outputId": "8b59f831-f170-4ecb-e7df-3588568bcc40"
   },
   "outputs": [
    {
     "data": {
      "text/plain": [
       "XLMRobertaLayer(\n",
       "  (attention): XLMRobertaAttention(\n",
       "    (self): XLMRobertaLongSelfAttention(\n",
       "      (query): Linear(in_features=768, out_features=768, bias=True)\n",
       "      (key): Linear(in_features=768, out_features=768, bias=True)\n",
       "      (value): Linear(in_features=768, out_features=768, bias=True)\n",
       "      (query_global): Linear(in_features=768, out_features=768, bias=True)\n",
       "      (key_global): Linear(in_features=768, out_features=768, bias=True)\n",
       "      (value_global): Linear(in_features=768, out_features=768, bias=True)\n",
       "    )\n",
       "    (output): XLMRobertaSelfOutput(\n",
       "      (dense): Linear(in_features=768, out_features=768, bias=True)\n",
       "      (LayerNorm): LayerNorm((768,), eps=1e-05, elementwise_affine=True)\n",
       "      (dropout): Dropout(p=0.1, inplace=False)\n",
       "    )\n",
       "  )\n",
       "  (intermediate): XLMRobertaIntermediate(\n",
       "    (dense): Linear(in_features=768, out_features=3072, bias=True)\n",
       "    (intermediate_act_fn): GELUActivation()\n",
       "  )\n",
       "  (output): XLMRobertaOutput(\n",
       "    (dense): Linear(in_features=3072, out_features=768, bias=True)\n",
       "    (LayerNorm): LayerNorm((768,), eps=1e-05, elementwise_affine=True)\n",
       "    (dropout): Dropout(p=0.1, inplace=False)\n",
       "  )\n",
       ")"
      ]
     },
     "execution_count": 10,
     "metadata": {},
     "output_type": "execute_result"
    }
   ],
   "source": [
    "model.roberta.encoder.layer[-1]"
   ]
  },
  {
   "cell_type": "code",
   "execution_count": null,
   "metadata": {
    "colab": {
     "base_uri": "https://localhost:8080/"
    },
    "id": "S-dEeypuyZfO",
    "outputId": "7ee2c1da-5ce0-4e3e-9c8a-1ae4d904622d"
   },
   "outputs": [
    {
     "name": "stdout",
     "output_type": "stream",
     "text": [
      "saving model to /content/drive/MyDrive/XLMRobertaLongForQuestionAnswering-base-squad2-256-4096\n"
     ]
    },
    {
     "data": {
      "text/plain": [
       "('/content/drive/MyDrive/XLMRobertaLongForQuestionAnswering-base-squad2-256-4096/tokenizer_config.json',\n",
       " '/content/drive/MyDrive/XLMRobertaLongForQuestionAnswering-base-squad2-256-4096/special_tokens_map.json',\n",
       " '/content/drive/MyDrive/XLMRobertaLongForQuestionAnswering-base-squad2-256-4096/sentencepiece.bpe.model',\n",
       " '/content/drive/MyDrive/XLMRobertaLongForQuestionAnswering-base-squad2-256-4096/added_tokens.json',\n",
       " '/content/drive/MyDrive/XLMRobertaLongForQuestionAnswering-base-squad2-256-4096/tokenizer.json')"
      ]
     },
     "execution_count": 11,
     "metadata": {},
     "output_type": "execute_result"
    }
   ],
   "source": [
    "save_model_to = (\n",
    "    \"/content/drive/MyDrive/XLMRobertaLongForQuestionAnswering-base-squad2-256-4096\"\n",
    ")\n",
    "print(f\"saving model to {save_model_to}\")\n",
    "model.save_pretrained(save_model_to)\n",
    "tokenizer.save_pretrained(save_model_to)"
   ]
  },
  {
   "cell_type": "markdown",
   "metadata": {
    "id": "YbfqBbNXadWb"
   },
   "source": [
    "# XLMRobertaLongForQuestionAnswering"
   ]
  },
  {
   "cell_type": "code",
   "execution_count": null,
   "metadata": {
    "id": "Obe4XZkgpSPd"
   },
   "outputs": [],
   "source": [
    "tokenizer = XLMRobertaTokenizerFast.from_pretrained(\n",
    "    save_model_to, model_max_length=4096\n",
    ")\n",
    "xlm_roberta = XLMRobertaLongForQuestionAnswering.from_pretrained(\n",
    "    save_model_to, max_length=4096\n",
    ").to(device)"
   ]
  },
  {
   "cell_type": "code",
   "execution_count": null,
   "metadata": {
    "colab": {
     "base_uri": "https://localhost:8080/"
    },
    "id": "evYG7kGjQZuK",
    "outputId": "7de17612-fc29-4568-ef8b-7910a0599840"
   },
   "outputs": [
    {
     "data": {
      "text/plain": [
       "Embedding(4098, 768, padding_idx=1)"
      ]
     },
     "execution_count": 13,
     "metadata": {},
     "output_type": "execute_result"
    }
   ],
   "source": [
    "xlm_roberta.roberta.embeddings.position_embeddings"
   ]
  },
  {
   "cell_type": "code",
   "execution_count": null,
   "metadata": {
    "id": "3apFyVmezvE3"
   },
   "outputs": [],
   "source": [
    "question = \"What hourglass-shaped women's garment was made using whalebone?\"\n",
    "long_context = \"\"\"\n",
    "Baleen is a filter-feeder system inside the mouths of baleen whales. The baleen system works when a whale opens its mouth underwater and the whale takes in water. The whale then pushes the water out, and animals such as krill are filtered by the baleen and remain as food source for the whale. Baleen is similar to bristles and is made of keratin, the same substance found in human fingernails and hair. Some whales, such as the bowhead whale, have longer baleen than others. Other whales, such as the gray whale, only use one side of their baleen. These baleen bristles are arranged in plates across the upper jaw of the whale. Baleen is often called whalebone, but that name also can refer to the normal bones of whales, which have often been used as a material, especially as a cheaper substitute for ivory in carving. Depending on the species, a baleen plate can be long, and weigh up to . Its hairy fringes are called baleen hair or whalebone-hair. They are also called baleen bristles, which in sei whales are highly calcified, calcification functioning to increase their stiffness. Baleen plates are broader at the gumline (base). The plates have been compared to sieves or Venetian blinds. Etymology The word baleen derives from the Latin bālaena, related to the Greek phalaina – both of which mean \"whale\". Evolution The oldest true fossils of baleen are only 15 million years old, but baleen rarely fossilizes, and scientists believe it originated considerably earlier than that. This is indicated by baleen-related skull modifications being found in fossils from considerably earlier, including a buttress of bone in the upper jaw beneath the eyes, and loose lower jaw bones at the chin. Baleen is believed to have evolved around thirty million years ago, possibly from a hard, gummy upper jaw, like the one a Dall's porpoise has; it closely resembles baleen at the microscopic level. The initial evolution and radiation of baleen plates is believed to have occurred during Early Oligocene when Antarctica broke off from Gondwana and the Antarctic Circumpolar Current was formed, increasing productivity of ocean environments. This occurred because the current kept warm ocean waters away from the area that is now Antarctica, producing steep gradients in temperature, salinity, light, and nutrients where the warm water meets the cold. The transition from teeth to baleen is proposed to have occurred stepwise, from teeth to a hybrid to baleen. It is known that modern mysticetes have teeth initially and then develop baleen plate germs in utero, but lose their dentition and have only baleen during juvenile and adulthood. However, developing mysticetes do not produce tooth enamel because at some point this trait evolved to become a pseudogene. This is likely to have occurred about 28 million years ago and proves that dentition is an ancestral state of mysticetes. Using parsimony to study this and other ancestral characters suggest that the common ancestor of aetiocetids and edentulous mysticetes evolved lateral nutrient foramina, which are believed to have provided blood vessels and nerves a way to reach developing baleen. Further research suggests that the baleen of Aetiocetus was arranged in bundles between widely spaced teeth. If true, this combination of baleen and dentition in Aetiocetus would act as a transition state between odontocetes and mysticetes. This intermediate step is further supported by evidence of other changes that occurred with the evolution of baleen that make it possible for the organisms to survive using filter feeding, such as a change in skull structure and throat elasticity. It would be highly unlikely for all of these changes to occur at once. Therefore, it is proposed that Oligocene aetiocetids possess both ancestral and descendent character states regarding feeding strategies. This makes them mosaic taxa, showing that either baleen evolved before dentition was lost or that the traits for filter feeding originally evolved for other functions. It also shows that the evolution could have occurred gradually because the ancestral state was originally maintained. Therefore, the mosaic whales could have exploited new resources using filter feeding while not abandoning their previous prey strategies. The result of this stepwise transition is apparent in modern-day baleen whales, because of their enamel pseudogenes and their in utero development and reabsorbing of teeth. If it is true that many early baleen whales also had teeth, these were probably used only peripherally, or perhaps not at all (again like Dall's porpoise, which catches squid and fish by gripping them against its hard upper jaw). Intense research has been carried out to sort out the evolution and phylogenetic history of mysticetes, but there is still much debate surrounding this issue. More work needs to be done to characterize extinct ancestral fossils so that future scientists will be able to piece together a more accurate phylogenetic tree. Filter feeding A whale's baleen plates play the most important role in its filter-feeding process. In order to feed, a baleen whale opens its mouth widely and scoops in dense shoals of prey (such as krill, copepods, small fish and sometimes birds that happen to be near the shoals), together with large volumes of water. It then partly shuts its mouth and presses its tongue against its upper jaw, forcing the water to pass out sideways through the baleen, thus sieving out the prey which it then swallows. Human uses People formerly used baleen (usually referred to as \"whalebone\") for making numerous items where flexibility and strength were required, including backscratchers, collar stiffeners, buggy whips, parasol ribs, crinoline petticoats and corset stays. It was commonly used to crease paper; its flexibility kept it from damaging the paper. It was also occasionally used in cable-backed bows. Synthetic materials are now usually used for similar purposes, especially plastic and fibre glass. It is not to be confused with whale's bone meaning the bones of whales, used in carving, for cutlery handles and other uses for the bones of various large species. As a habitat Baleen serves as a habitat for some species from the gastropod families Pyropeltidae, Cocculinidae, Osteopeltidae and Neolepetopsidae.\n",
    "\"\"\""
   ]
  },
  {
   "cell_type": "code",
   "execution_count": null,
   "metadata": {
    "id": "IfDN4Es9xeQy"
   },
   "outputs": [],
   "source": [
    "question = \"Which name is also used to describe the Amazon rainforest in English?\"\n",
    "long_context = \"\"\"\n",
    "The Amazon rainforest (Portuguese: Floresta Amazônica or Amazônia; Spanish: Selva Amazónica, Amazonía or usually Amazonia; French: Forêt amazonienne; Dutch: Amazoneregenwoud), also known in English as Amazonia or the Amazon Jungle, is a moist broadleaf forest that covers most of the Amazon basin of South America. This basin encompasses 7,000,000 square kilometres (2,700,000 sq mi), of which 5,500,000 square kilometres (2,100,000 sq mi) are covered by the rainforest. This region includes territory belonging to nine nations. The majority of the forest is contained within Brazil, with 60% of the rainforest, followed by Peru with 13%, Colombia with 10%, and with minor amounts in Venezuela, Ecuador, Bolivia, Guyana, Suriname and French Guiana. States or departments in four nations contain \"Amazonas\" in their names. The Amazon represents over half of the planet's remaining rainforests, and comprises the largest and most biodiverse tract of tropical rainforest in the world, with an estimated 390 billion individual trees divided into 16,000 species.\n",
    "\"\"\""
   ]
  },
  {
   "cell_type": "code",
   "execution_count": null,
   "metadata": {
    "id": "0XOLD3lAWgJW"
   },
   "outputs": [],
   "source": [
    "question = \"¿Qué otro nombre se utiliza para describir la selva amazónica?\"\n",
    "long_context = \"\"\"\n",
    "La selva amazónica (portugués: Floresta Amazônica o Amazônia; español: Selva Amazónica, Amazonía o normalmente Amazonia; francés: Forêt amazonienne; neerlandés: Amazoneregenwoud), también conocida en inglés como Amazonia o the Amazon Jungle, es un bosque latifoliado húmedo que cubre la mayor parte de la cuenca amazónica de Sudamérica. Esta cuenca abarca 7.000.000 kilómetros cuadrados (2.700.000 millas cuadradas), de los cuales 5.500.000 kilómetros cuadrados (2.100.000 millas cuadradas) están cubiertos por la selva tropical. Esta región incluye territorios pertenecientes a nueve naciones. La mayor parte de la selva se encuentra en Brasil, con un 60%, seguido de Perú, con un 13%, Colombia, con un 10%, y con pequeñas extensiones en Venezuela, Ecuador, Bolivia, Guyana, Surinam y la Guayana Francesa. Estados o departamentos de cuatro naciones contienen \"Amazonas\" en sus nombres. La Amazonia representa más de la mitad de las selvas tropicales que quedan en el planeta, y comprende la mayor y más biodiversa extensión de selva tropical del mundo, con unos 390.000 millones de árboles divididos en 16.000 especies.\n",
    "\"\"\""
   ]
  },
  {
   "cell_type": "code",
   "execution_count": null,
   "metadata": {
    "id": "Zszlk7SBYb9l"
   },
   "outputs": [],
   "source": [
    "question = \"which GPU are they evaluate with?\"\n",
    "long_context = \"\"\"\n",
    "We evaluate on text8 and enwik8, both contain 100M characters from Wikipedia split into 90M, 5M, 5M for train, dev, test. Our model only specifies how the self-attention component works, and it is agnostic to the other design choices for the transformer model. Our implementation is based on the Transformer-XL (Dai et al., 2019) code11 with the memory mechanism disabled. We use relative position embeddings with sinusoidal weights as in Dai et al. (2019). We use two different model sizes, a experiments on 48GB RTX8000 GPUs. All hyperparameters and stage configurations are listed in Tab. 12. Our CUDA kernel supports the autoregressive mode where each token attends to a window of previous tokens only. Our implementation also includes a version of the relative position embedding that is compatible with our dilated sliding window attention. We ran the small model experiments on 4 RTX8000 GPUs for 16 days. For the large model, we ran experiments on 8 RTX8000 GPUs for 13 days. Most of our hyperparameter search is similarto the ablation in Tab. 4 where we run the configuration for 150K steps on text8. We experimented with absolute position embeddings and learned position embeddings, dropout values of [0.1, 0.2] (small model) and [0.1, 0.4] (large model), prelayernorm and post-layernorm (Xiong et al., 2020), learning rate (LR) of phase1 of values [2.5e-5, 5e4, 1e-4] constant and cosine LR schedules, and different configurations for dilation (on all heads, on 2 heads, no dilation). Number of gradient updates/phase reported in Tab. 12 is determined by running each phase until the validation BPC stops\n",
    "\"\"\""
   ]
  },
  {
   "cell_type": "code",
   "execution_count": null,
   "metadata": {
    "colab": {
     "base_uri": "https://localhost:8080/"
    },
    "id": "8HDr2SeKYkwP",
    "outputId": "df4d7bdc-37bd-4714-e361-e3706cf27cc4"
   },
   "outputs": [
    {
     "data": {
      "text/plain": [
       "1584"
      ]
     },
     "execution_count": 15,
     "metadata": {},
     "output_type": "execute_result"
    }
   ],
   "source": [
    "len(tokenizer(question, long_context, return_tensors=\"pt\")[\"input_ids\"][0])"
   ]
  },
  {
   "cell_type": "code",
   "execution_count": null,
   "metadata": {
    "colab": {
     "base_uri": "https://localhost:8080/"
    },
    "id": "zY3LsMDxcFFE",
    "outputId": "2e75828d-a72a-4dc4-c454-191b5c8ce8c1"
   },
   "outputs": [
    {
     "data": {
      "text/plain": [
       "(tensor(75, device='cuda:0'), tensor(81, device='cuda:0'))"
      ]
     },
     "execution_count": 18,
     "metadata": {},
     "output_type": "execute_result"
    }
   ],
   "source": [
    "inputs = tokenizer(\n",
    "    question, long_context, max_length=4096, padding=\"max_length\", return_tensors=\"pt\"\n",
    ")\n",
    "\n",
    "input_ids = inputs[\"input_ids\"]\n",
    "attention_mask = inputs[\"attention_mask\"]\n",
    "\n",
    "input_ids = input_ids.to(device)\n",
    "attention_mask = attention_mask.to(device)\n",
    "with torch.no_grad():\n",
    "    out = xlm_roberta(input_ids, attention_mask)\n",
    "\n",
    "start_index = torch.argmax(out[0])\n",
    "end_index = torch.argmax(out[1])\n",
    "start_index, end_index"
   ]
  },
  {
   "cell_type": "code",
   "execution_count": null,
   "metadata": {
    "colab": {
     "base_uri": "https://localhost:8080/"
    },
    "id": "Bcb2QUEWQmzn",
    "outputId": "a0068e25-823b-42d2-bcf5-88709a1e3c17"
   },
   "outputs": [
    {
     "data": {
      "text/plain": [
       "torch.Size([1, 4096])"
      ]
     },
     "execution_count": 21,
     "metadata": {},
     "output_type": "execute_result"
    }
   ],
   "source": [
    "out.start_logits.shape"
   ]
  },
  {
   "cell_type": "code",
   "execution_count": null,
   "metadata": {
    "colab": {
     "base_uri": "https://localhost:8080/",
     "height": 34
    },
    "id": "o2R2mUIkcm1V",
    "outputId": "3ec7611c-9f7e-4081-ebfe-edb99cff1522"
   },
   "outputs": [
    {
     "data": {
      "application/vnd.google.colaboratory.intrinsic+json": {
       "type": "string"
      },
      "text/plain": [
       "'text8 and enwik8'"
      ]
     },
     "execution_count": 24,
     "metadata": {},
     "output_type": "execute_result"
    }
   ],
   "source": [
    "tokenizer.decode(input_ids[0][start_index : end_index + 1])"
   ]
  },
  {
   "cell_type": "code",
   "execution_count": null,
   "metadata": {
    "colab": {
     "base_uri": "https://localhost:8080/"
    },
    "id": "nKJPy8fMWGN_",
    "outputId": "f7edbfda-39bd-4409-a1b9-e0dce5a91b2d"
   },
   "outputs": [
    {
     "data": {
      "text/plain": [
       "torch.Size([1, 4096])"
      ]
     },
     "execution_count": 17,
     "metadata": {},
     "output_type": "execute_result"
    }
   ],
   "source": [
    "input_ids.shape"
   ]
  },
  {
   "cell_type": "code",
   "execution_count": null,
   "metadata": {
    "id": "vnUf__uKWICQ"
   },
   "outputs": [],
   "source": [
    "torch.cuda.empty_cache()"
   ]
  }
 ],
 "metadata": {
  "accelerator": "GPU",
  "colab": {
   "provenance": []
  },
  "gpuClass": "standard",
  "kernelspec": {
   "display_name": "Python 3",
   "language": "python",
   "name": "python3"
  },
  "language_info": {
   "codemirror_mode": {
    "name": "ipython",
    "version": 3
   },
   "file_extension": ".py",
   "mimetype": "text/x-python",
   "name": "python",
   "nbconvert_exporter": "python",
   "pygments_lexer": "ipython3",
   "version": "3.7.7"
  },
  "widgets": {
   "application/vnd.jupyter.widget-state+json": {
    "028922d0be064d50bae2ca51b8d7cea5": {
     "model_module": "@jupyter-widgets/controls",
     "model_module_version": "1.5.0",
     "model_name": "DescriptionStyleModel",
     "state": {
      "_model_module": "@jupyter-widgets/controls",
      "_model_module_version": "1.5.0",
      "_model_name": "DescriptionStyleModel",
      "_view_count": null,
      "_view_module": "@jupyter-widgets/base",
      "_view_module_version": "1.2.0",
      "_view_name": "StyleView",
      "description_width": ""
     }
    },
    "038556544daf4c63a4ae39c6e76653d7": {
     "model_module": "@jupyter-widgets/controls",
     "model_module_version": "1.5.0",
     "model_name": "FloatProgressModel",
     "state": {
      "_dom_classes": [],
      "_model_module": "@jupyter-widgets/controls",
      "_model_module_version": "1.5.0",
      "_model_name": "FloatProgressModel",
      "_view_count": null,
      "_view_module": "@jupyter-widgets/controls",
      "_view_module_version": "1.5.0",
      "_view_name": "ProgressView",
      "bar_style": "success",
      "description": "",
      "description_tooltip": null,
      "layout": "IPY_MODEL_8eaab1e7b2c24f8a924a6df3e09477b3",
      "max": 1109905791,
      "min": 0,
      "orientation": "horizontal",
      "style": "IPY_MODEL_1057397d832340e4a92355f81938afcf",
      "value": 1109905791
     }
    },
    "0e3131b8f7054512b50c8e16108dec2a": {
     "model_module": "@jupyter-widgets/controls",
     "model_module_version": "1.5.0",
     "model_name": "ProgressStyleModel",
     "state": {
      "_model_module": "@jupyter-widgets/controls",
      "_model_module_version": "1.5.0",
      "_model_name": "ProgressStyleModel",
      "_view_count": null,
      "_view_module": "@jupyter-widgets/base",
      "_view_module_version": "1.2.0",
      "_view_name": "StyleView",
      "bar_color": null,
      "description_width": ""
     }
    },
    "1057397d832340e4a92355f81938afcf": {
     "model_module": "@jupyter-widgets/controls",
     "model_module_version": "1.5.0",
     "model_name": "ProgressStyleModel",
     "state": {
      "_model_module": "@jupyter-widgets/controls",
      "_model_module_version": "1.5.0",
      "_model_name": "ProgressStyleModel",
      "_view_count": null,
      "_view_module": "@jupyter-widgets/base",
      "_view_module_version": "1.2.0",
      "_view_name": "StyleView",
      "bar_color": null,
      "description_width": ""
     }
    },
    "10f0fa20a30c464aabbc86aa96466fdf": {
     "model_module": "@jupyter-widgets/controls",
     "model_module_version": "1.5.0",
     "model_name": "DescriptionStyleModel",
     "state": {
      "_model_module": "@jupyter-widgets/controls",
      "_model_module_version": "1.5.0",
      "_model_name": "DescriptionStyleModel",
      "_view_count": null,
      "_view_module": "@jupyter-widgets/base",
      "_view_module_version": "1.2.0",
      "_view_name": "StyleView",
      "description_width": ""
     }
    },
    "1b229849cd374138b4f9599dd59eb836": {
     "model_module": "@jupyter-widgets/base",
     "model_module_version": "1.2.0",
     "model_name": "LayoutModel",
     "state": {
      "_model_module": "@jupyter-widgets/base",
      "_model_module_version": "1.2.0",
      "_model_name": "LayoutModel",
      "_view_count": null,
      "_view_module": "@jupyter-widgets/base",
      "_view_module_version": "1.2.0",
      "_view_name": "LayoutView",
      "align_content": null,
      "align_items": null,
      "align_self": null,
      "border": null,
      "bottom": null,
      "display": null,
      "flex": null,
      "flex_flow": null,
      "grid_area": null,
      "grid_auto_columns": null,
      "grid_auto_flow": null,
      "grid_auto_rows": null,
      "grid_column": null,
      "grid_gap": null,
      "grid_row": null,
      "grid_template_areas": null,
      "grid_template_columns": null,
      "grid_template_rows": null,
      "height": null,
      "justify_content": null,
      "justify_items": null,
      "left": null,
      "margin": null,
      "max_height": null,
      "max_width": null,
      "min_height": null,
      "min_width": null,
      "object_fit": null,
      "object_position": null,
      "order": null,
      "overflow": null,
      "overflow_x": null,
      "overflow_y": null,
      "padding": null,
      "right": null,
      "top": null,
      "visibility": null,
      "width": null
     }
    },
    "2178ebb93f0245009861a3bd2782d524": {
     "model_module": "@jupyter-widgets/controls",
     "model_module_version": "1.5.0",
     "model_name": "HTMLModel",
     "state": {
      "_dom_classes": [],
      "_model_module": "@jupyter-widgets/controls",
      "_model_module_version": "1.5.0",
      "_model_name": "HTMLModel",
      "_view_count": null,
      "_view_module": "@jupyter-widgets/controls",
      "_view_module_version": "1.5.0",
      "_view_name": "HTMLView",
      "description": "",
      "description_tooltip": null,
      "layout": "IPY_MODEL_794f31bd43b54a46a8e8f2b370e53d98",
      "placeholder": "​",
      "style": "IPY_MODEL_028922d0be064d50bae2ca51b8d7cea5",
      "value": " 605/605 [00:00&lt;00:00, 23.7kB/s]"
     }
    },
    "2886b3bb6f1347318feb07be7887a93a": {
     "model_module": "@jupyter-widgets/controls",
     "model_module_version": "1.5.0",
     "model_name": "DescriptionStyleModel",
     "state": {
      "_model_module": "@jupyter-widgets/controls",
      "_model_module_version": "1.5.0",
      "_model_name": "DescriptionStyleModel",
      "_view_count": null,
      "_view_module": "@jupyter-widgets/base",
      "_view_module_version": "1.2.0",
      "_view_name": "StyleView",
      "description_width": ""
     }
    },
    "29556d8c1bbf4b74880a41f78c99031e": {
     "model_module": "@jupyter-widgets/base",
     "model_module_version": "1.2.0",
     "model_name": "LayoutModel",
     "state": {
      "_model_module": "@jupyter-widgets/base",
      "_model_module_version": "1.2.0",
      "_model_name": "LayoutModel",
      "_view_count": null,
      "_view_module": "@jupyter-widgets/base",
      "_view_module_version": "1.2.0",
      "_view_name": "LayoutView",
      "align_content": null,
      "align_items": null,
      "align_self": null,
      "border": null,
      "bottom": null,
      "display": null,
      "flex": null,
      "flex_flow": null,
      "grid_area": null,
      "grid_auto_columns": null,
      "grid_auto_flow": null,
      "grid_auto_rows": null,
      "grid_column": null,
      "grid_gap": null,
      "grid_row": null,
      "grid_template_areas": null,
      "grid_template_columns": null,
      "grid_template_rows": null,
      "height": null,
      "justify_content": null,
      "justify_items": null,
      "left": null,
      "margin": null,
      "max_height": null,
      "max_width": null,
      "min_height": null,
      "min_width": null,
      "object_fit": null,
      "object_position": null,
      "order": null,
      "overflow": null,
      "overflow_x": null,
      "overflow_y": null,
      "padding": null,
      "right": null,
      "top": null,
      "visibility": null,
      "width": null
     }
    },
    "3c65303f8e1b4ffba51636116f011b09": {
     "model_module": "@jupyter-widgets/controls",
     "model_module_version": "1.5.0",
     "model_name": "ProgressStyleModel",
     "state": {
      "_model_module": "@jupyter-widgets/controls",
      "_model_module_version": "1.5.0",
      "_model_name": "ProgressStyleModel",
      "_view_count": null,
      "_view_module": "@jupyter-widgets/base",
      "_view_module_version": "1.2.0",
      "_view_name": "StyleView",
      "bar_color": null,
      "description_width": ""
     }
    },
    "3ee3c92a435843abbae034946b441c80": {
     "model_module": "@jupyter-widgets/controls",
     "model_module_version": "1.5.0",
     "model_name": "HBoxModel",
     "state": {
      "_dom_classes": [],
      "_model_module": "@jupyter-widgets/controls",
      "_model_module_version": "1.5.0",
      "_model_name": "HBoxModel",
      "_view_count": null,
      "_view_module": "@jupyter-widgets/controls",
      "_view_module_version": "1.5.0",
      "_view_name": "HBoxView",
      "box_style": "",
      "children": [
       "IPY_MODEL_980595ee1e90468d9ded801df9f228d3",
       "IPY_MODEL_affb7ce89e834ff7994930e15e1d3de7",
       "IPY_MODEL_2178ebb93f0245009861a3bd2782d524"
      ],
      "layout": "IPY_MODEL_c7d6af17bed44ab0bfcc571a9c93a7e3"
     }
    },
    "3f919d9b5fcd48cc98c49383c550e4ca": {
     "model_module": "@jupyter-widgets/controls",
     "model_module_version": "1.5.0",
     "model_name": "FloatProgressModel",
     "state": {
      "_dom_classes": [],
      "_model_module": "@jupyter-widgets/controls",
      "_model_module_version": "1.5.0",
      "_model_name": "FloatProgressModel",
      "_view_count": null,
      "_view_module": "@jupyter-widgets/controls",
      "_view_module_version": "1.5.0",
      "_view_name": "ProgressView",
      "bar_style": "success",
      "description": "",
      "description_tooltip": null,
      "layout": "IPY_MODEL_ec749640c0414f20850acc22bf9c8132",
      "max": 150,
      "min": 0,
      "orientation": "horizontal",
      "style": "IPY_MODEL_3c65303f8e1b4ffba51636116f011b09",
      "value": 150
     }
    },
    "4427b9e27c4a435b9fe58acbbb47ece9": {
     "model_module": "@jupyter-widgets/controls",
     "model_module_version": "1.5.0",
     "model_name": "DescriptionStyleModel",
     "state": {
      "_model_module": "@jupyter-widgets/controls",
      "_model_module_version": "1.5.0",
      "_model_name": "DescriptionStyleModel",
      "_view_count": null,
      "_view_module": "@jupyter-widgets/base",
      "_view_module_version": "1.2.0",
      "_view_name": "StyleView",
      "description_width": ""
     }
    },
    "48e97d5ad5a94c318bc40c8c8504fa01": {
     "model_module": "@jupyter-widgets/controls",
     "model_module_version": "1.5.0",
     "model_name": "DescriptionStyleModel",
     "state": {
      "_model_module": "@jupyter-widgets/controls",
      "_model_module_version": "1.5.0",
      "_model_name": "DescriptionStyleModel",
      "_view_count": null,
      "_view_module": "@jupyter-widgets/base",
      "_view_module_version": "1.2.0",
      "_view_name": "StyleView",
      "description_width": ""
     }
    },
    "4ae1c87c454f49d988a5ff2c904f741e": {
     "model_module": "@jupyter-widgets/controls",
     "model_module_version": "1.5.0",
     "model_name": "ProgressStyleModel",
     "state": {
      "_model_module": "@jupyter-widgets/controls",
      "_model_module_version": "1.5.0",
      "_model_name": "ProgressStyleModel",
      "_view_count": null,
      "_view_module": "@jupyter-widgets/base",
      "_view_module_version": "1.2.0",
      "_view_name": "StyleView",
      "bar_color": null,
      "description_width": ""
     }
    },
    "4ec0f1c136ad4fb78dc596d730c33bf2": {
     "model_module": "@jupyter-widgets/controls",
     "model_module_version": "1.5.0",
     "model_name": "HBoxModel",
     "state": {
      "_dom_classes": [],
      "_model_module": "@jupyter-widgets/controls",
      "_model_module_version": "1.5.0",
      "_model_name": "HBoxModel",
      "_view_count": null,
      "_view_module": "@jupyter-widgets/controls",
      "_view_module_version": "1.5.0",
      "_view_name": "HBoxView",
      "box_style": "",
      "children": [
       "IPY_MODEL_63fbb2f38de647b3ab28c6c844492e01",
       "IPY_MODEL_3f919d9b5fcd48cc98c49383c550e4ca",
       "IPY_MODEL_4f3b9f818fc34c038371b83fcde0e53c"
      ],
      "layout": "IPY_MODEL_87727e9906d14f1f99b52adbc4d88e0b"
     }
    },
    "4ed37699681d4e60b52551148784c801": {
     "model_module": "@jupyter-widgets/base",
     "model_module_version": "1.2.0",
     "model_name": "LayoutModel",
     "state": {
      "_model_module": "@jupyter-widgets/base",
      "_model_module_version": "1.2.0",
      "_model_name": "LayoutModel",
      "_view_count": null,
      "_view_module": "@jupyter-widgets/base",
      "_view_module_version": "1.2.0",
      "_view_name": "LayoutView",
      "align_content": null,
      "align_items": null,
      "align_self": null,
      "border": null,
      "bottom": null,
      "display": null,
      "flex": null,
      "flex_flow": null,
      "grid_area": null,
      "grid_auto_columns": null,
      "grid_auto_flow": null,
      "grid_auto_rows": null,
      "grid_column": null,
      "grid_gap": null,
      "grid_row": null,
      "grid_template_areas": null,
      "grid_template_columns": null,
      "grid_template_rows": null,
      "height": null,
      "justify_content": null,
      "justify_items": null,
      "left": null,
      "margin": null,
      "max_height": null,
      "max_width": null,
      "min_height": null,
      "min_width": null,
      "object_fit": null,
      "object_position": null,
      "order": null,
      "overflow": null,
      "overflow_x": null,
      "overflow_y": null,
      "padding": null,
      "right": null,
      "top": null,
      "visibility": null,
      "width": null
     }
    },
    "4f3b9f818fc34c038371b83fcde0e53c": {
     "model_module": "@jupyter-widgets/controls",
     "model_module_version": "1.5.0",
     "model_name": "HTMLModel",
     "state": {
      "_dom_classes": [],
      "_model_module": "@jupyter-widgets/controls",
      "_model_module_version": "1.5.0",
      "_model_name": "HTMLModel",
      "_view_count": null,
      "_view_module": "@jupyter-widgets/controls",
      "_view_module_version": "1.5.0",
      "_view_name": "HTMLView",
      "description": "",
      "description_tooltip": null,
      "layout": "IPY_MODEL_d6fd08651d7d4609827ec1b414069361",
      "placeholder": "​",
      "style": "IPY_MODEL_f13551897baa44ad98c2151de38c1158",
      "value": " 150/150 [00:00&lt;00:00, 5.67kB/s]"
     }
    },
    "5306911bfaf34a25a4844d7a864ccfb0": {
     "model_module": "@jupyter-widgets/controls",
     "model_module_version": "1.5.0",
     "model_name": "FloatProgressModel",
     "state": {
      "_dom_classes": [],
      "_model_module": "@jupyter-widgets/controls",
      "_model_module_version": "1.5.0",
      "_model_name": "FloatProgressModel",
      "_view_count": null,
      "_view_module": "@jupyter-widgets/controls",
      "_view_module_version": "1.5.0",
      "_view_name": "ProgressView",
      "bar_style": "success",
      "description": "",
      "description_tooltip": null,
      "layout": "IPY_MODEL_b36c7cbfc6574f4aa33e752981a11dd4",
      "max": 5069051,
      "min": 0,
      "orientation": "horizontal",
      "style": "IPY_MODEL_949b408bb7e649ce9fa66fcf49e34227",
      "value": 5069051
     }
    },
    "5aab475e368343c3a033f176954d5c29": {
     "model_module": "@jupyter-widgets/base",
     "model_module_version": "1.2.0",
     "model_name": "LayoutModel",
     "state": {
      "_model_module": "@jupyter-widgets/base",
      "_model_module_version": "1.2.0",
      "_model_name": "LayoutModel",
      "_view_count": null,
      "_view_module": "@jupyter-widgets/base",
      "_view_module_version": "1.2.0",
      "_view_name": "LayoutView",
      "align_content": null,
      "align_items": null,
      "align_self": null,
      "border": null,
      "bottom": null,
      "display": null,
      "flex": null,
      "flex_flow": null,
      "grid_area": null,
      "grid_auto_columns": null,
      "grid_auto_flow": null,
      "grid_auto_rows": null,
      "grid_column": null,
      "grid_gap": null,
      "grid_row": null,
      "grid_template_areas": null,
      "grid_template_columns": null,
      "grid_template_rows": null,
      "height": null,
      "justify_content": null,
      "justify_items": null,
      "left": null,
      "margin": null,
      "max_height": null,
      "max_width": null,
      "min_height": null,
      "min_width": null,
      "object_fit": null,
      "object_position": null,
      "order": null,
      "overflow": null,
      "overflow_x": null,
      "overflow_y": null,
      "padding": null,
      "right": null,
      "top": null,
      "visibility": null,
      "width": null
     }
    },
    "5cd81d87bc094a71a2656737ac729864": {
     "model_module": "@jupyter-widgets/base",
     "model_module_version": "1.2.0",
     "model_name": "LayoutModel",
     "state": {
      "_model_module": "@jupyter-widgets/base",
      "_model_module_version": "1.2.0",
      "_model_name": "LayoutModel",
      "_view_count": null,
      "_view_module": "@jupyter-widgets/base",
      "_view_module_version": "1.2.0",
      "_view_name": "LayoutView",
      "align_content": null,
      "align_items": null,
      "align_self": null,
      "border": null,
      "bottom": null,
      "display": null,
      "flex": null,
      "flex_flow": null,
      "grid_area": null,
      "grid_auto_columns": null,
      "grid_auto_flow": null,
      "grid_auto_rows": null,
      "grid_column": null,
      "grid_gap": null,
      "grid_row": null,
      "grid_template_areas": null,
      "grid_template_columns": null,
      "grid_template_rows": null,
      "height": null,
      "justify_content": null,
      "justify_items": null,
      "left": null,
      "margin": null,
      "max_height": null,
      "max_width": null,
      "min_height": null,
      "min_width": null,
      "object_fit": null,
      "object_position": null,
      "order": null,
      "overflow": null,
      "overflow_x": null,
      "overflow_y": null,
      "padding": null,
      "right": null,
      "top": null,
      "visibility": null,
      "width": null
     }
    },
    "63fbb2f38de647b3ab28c6c844492e01": {
     "model_module": "@jupyter-widgets/controls",
     "model_module_version": "1.5.0",
     "model_name": "HTMLModel",
     "state": {
      "_dom_classes": [],
      "_model_module": "@jupyter-widgets/controls",
      "_model_module_version": "1.5.0",
      "_model_name": "HTMLModel",
      "_view_count": null,
      "_view_module": "@jupyter-widgets/controls",
      "_view_module_version": "1.5.0",
      "_view_name": "HTMLView",
      "description": "",
      "description_tooltip": null,
      "layout": "IPY_MODEL_f0ac60e7e9c14d2aa6f5662e7b973232",
      "placeholder": "​",
      "style": "IPY_MODEL_68b77816ba2c4596bffac685f74e8ef4",
      "value": "Downloading (…)cial_tokens_map.json: 100%"
     }
    },
    "68b77816ba2c4596bffac685f74e8ef4": {
     "model_module": "@jupyter-widgets/controls",
     "model_module_version": "1.5.0",
     "model_name": "DescriptionStyleModel",
     "state": {
      "_model_module": "@jupyter-widgets/controls",
      "_model_module_version": "1.5.0",
      "_model_name": "DescriptionStyleModel",
      "_view_count": null,
      "_view_module": "@jupyter-widgets/base",
      "_view_module_version": "1.2.0",
      "_view_name": "StyleView",
      "description_width": ""
     }
    },
    "74c373d40fce4dccbbf64af2f1dcac1f": {
     "model_module": "@jupyter-widgets/base",
     "model_module_version": "1.2.0",
     "model_name": "LayoutModel",
     "state": {
      "_model_module": "@jupyter-widgets/base",
      "_model_module_version": "1.2.0",
      "_model_name": "LayoutModel",
      "_view_count": null,
      "_view_module": "@jupyter-widgets/base",
      "_view_module_version": "1.2.0",
      "_view_name": "LayoutView",
      "align_content": null,
      "align_items": null,
      "align_self": null,
      "border": null,
      "bottom": null,
      "display": null,
      "flex": null,
      "flex_flow": null,
      "grid_area": null,
      "grid_auto_columns": null,
      "grid_auto_flow": null,
      "grid_auto_rows": null,
      "grid_column": null,
      "grid_gap": null,
      "grid_row": null,
      "grid_template_areas": null,
      "grid_template_columns": null,
      "grid_template_rows": null,
      "height": null,
      "justify_content": null,
      "justify_items": null,
      "left": null,
      "margin": null,
      "max_height": null,
      "max_width": null,
      "min_height": null,
      "min_width": null,
      "object_fit": null,
      "object_position": null,
      "order": null,
      "overflow": null,
      "overflow_x": null,
      "overflow_y": null,
      "padding": null,
      "right": null,
      "top": null,
      "visibility": null,
      "width": null
     }
    },
    "76b9b0aa2eb64defa8062ddb1a8d1f90": {
     "model_module": "@jupyter-widgets/controls",
     "model_module_version": "1.5.0",
     "model_name": "HTMLModel",
     "state": {
      "_dom_classes": [],
      "_model_module": "@jupyter-widgets/controls",
      "_model_module_version": "1.5.0",
      "_model_name": "HTMLModel",
      "_view_count": null,
      "_view_module": "@jupyter-widgets/controls",
      "_view_module_version": "1.5.0",
      "_view_name": "HTMLView",
      "description": "",
      "description_tooltip": null,
      "layout": "IPY_MODEL_1b229849cd374138b4f9599dd59eb836",
      "placeholder": "​",
      "style": "IPY_MODEL_4427b9e27c4a435b9fe58acbbb47ece9",
      "value": "Downloading (…)okenizer_config.json: 100%"
     }
    },
    "77023ad677e34e6b8bc8a4484fa5e5ab": {
     "model_module": "@jupyter-widgets/controls",
     "model_module_version": "1.5.0",
     "model_name": "FloatProgressModel",
     "state": {
      "_dom_classes": [],
      "_model_module": "@jupyter-widgets/controls",
      "_model_module_version": "1.5.0",
      "_model_name": "FloatProgressModel",
      "_view_count": null,
      "_view_module": "@jupyter-widgets/controls",
      "_view_module_version": "1.5.0",
      "_view_name": "ProgressView",
      "bar_style": "success",
      "description": "",
      "description_tooltip": null,
      "layout": "IPY_MODEL_d2a4d99eb650404c9a620c8b705dde51",
      "max": 79,
      "min": 0,
      "orientation": "horizontal",
      "style": "IPY_MODEL_0e3131b8f7054512b50c8e16108dec2a",
      "value": 79
     }
    },
    "7790b78769d141619eb702c09ed6148e": {
     "model_module": "@jupyter-widgets/controls",
     "model_module_version": "1.5.0",
     "model_name": "HBoxModel",
     "state": {
      "_dom_classes": [],
      "_model_module": "@jupyter-widgets/controls",
      "_model_module_version": "1.5.0",
      "_model_name": "HBoxModel",
      "_view_count": null,
      "_view_module": "@jupyter-widgets/controls",
      "_view_module_version": "1.5.0",
      "_view_name": "HBoxView",
      "box_style": "",
      "children": [
       "IPY_MODEL_76b9b0aa2eb64defa8062ddb1a8d1f90",
       "IPY_MODEL_77023ad677e34e6b8bc8a4484fa5e5ab",
       "IPY_MODEL_8e6493f95bf5418c96d1771223ae913a"
      ],
      "layout": "IPY_MODEL_29556d8c1bbf4b74880a41f78c99031e"
     }
    },
    "794f31bd43b54a46a8e8f2b370e53d98": {
     "model_module": "@jupyter-widgets/base",
     "model_module_version": "1.2.0",
     "model_name": "LayoutModel",
     "state": {
      "_model_module": "@jupyter-widgets/base",
      "_model_module_version": "1.2.0",
      "_model_name": "LayoutModel",
      "_view_count": null,
      "_view_module": "@jupyter-widgets/base",
      "_view_module_version": "1.2.0",
      "_view_name": "LayoutView",
      "align_content": null,
      "align_items": null,
      "align_self": null,
      "border": null,
      "bottom": null,
      "display": null,
      "flex": null,
      "flex_flow": null,
      "grid_area": null,
      "grid_auto_columns": null,
      "grid_auto_flow": null,
      "grid_auto_rows": null,
      "grid_column": null,
      "grid_gap": null,
      "grid_row": null,
      "grid_template_areas": null,
      "grid_template_columns": null,
      "grid_template_rows": null,
      "height": null,
      "justify_content": null,
      "justify_items": null,
      "left": null,
      "margin": null,
      "max_height": null,
      "max_width": null,
      "min_height": null,
      "min_width": null,
      "object_fit": null,
      "object_position": null,
      "order": null,
      "overflow": null,
      "overflow_x": null,
      "overflow_y": null,
      "padding": null,
      "right": null,
      "top": null,
      "visibility": null,
      "width": null
     }
    },
    "7b75b8645afd416d9966f2339eee93ac": {
     "model_module": "@jupyter-widgets/base",
     "model_module_version": "1.2.0",
     "model_name": "LayoutModel",
     "state": {
      "_model_module": "@jupyter-widgets/base",
      "_model_module_version": "1.2.0",
      "_model_name": "LayoutModel",
      "_view_count": null,
      "_view_module": "@jupyter-widgets/base",
      "_view_module_version": "1.2.0",
      "_view_name": "LayoutView",
      "align_content": null,
      "align_items": null,
      "align_self": null,
      "border": null,
      "bottom": null,
      "display": null,
      "flex": null,
      "flex_flow": null,
      "grid_area": null,
      "grid_auto_columns": null,
      "grid_auto_flow": null,
      "grid_auto_rows": null,
      "grid_column": null,
      "grid_gap": null,
      "grid_row": null,
      "grid_template_areas": null,
      "grid_template_columns": null,
      "grid_template_rows": null,
      "height": null,
      "justify_content": null,
      "justify_items": null,
      "left": null,
      "margin": null,
      "max_height": null,
      "max_width": null,
      "min_height": null,
      "min_width": null,
      "object_fit": null,
      "object_position": null,
      "order": null,
      "overflow": null,
      "overflow_x": null,
      "overflow_y": null,
      "padding": null,
      "right": null,
      "top": null,
      "visibility": null,
      "width": null
     }
    },
    "835c7ea07aa94c3fb7f3ae826b782c88": {
     "model_module": "@jupyter-widgets/controls",
     "model_module_version": "1.5.0",
     "model_name": "DescriptionStyleModel",
     "state": {
      "_model_module": "@jupyter-widgets/controls",
      "_model_module_version": "1.5.0",
      "_model_name": "DescriptionStyleModel",
      "_view_count": null,
      "_view_module": "@jupyter-widgets/base",
      "_view_module_version": "1.2.0",
      "_view_name": "StyleView",
      "description_width": ""
     }
    },
    "87727e9906d14f1f99b52adbc4d88e0b": {
     "model_module": "@jupyter-widgets/base",
     "model_module_version": "1.2.0",
     "model_name": "LayoutModel",
     "state": {
      "_model_module": "@jupyter-widgets/base",
      "_model_module_version": "1.2.0",
      "_model_name": "LayoutModel",
      "_view_count": null,
      "_view_module": "@jupyter-widgets/base",
      "_view_module_version": "1.2.0",
      "_view_name": "LayoutView",
      "align_content": null,
      "align_items": null,
      "align_self": null,
      "border": null,
      "bottom": null,
      "display": null,
      "flex": null,
      "flex_flow": null,
      "grid_area": null,
      "grid_auto_columns": null,
      "grid_auto_flow": null,
      "grid_auto_rows": null,
      "grid_column": null,
      "grid_gap": null,
      "grid_row": null,
      "grid_template_areas": null,
      "grid_template_columns": null,
      "grid_template_rows": null,
      "height": null,
      "justify_content": null,
      "justify_items": null,
      "left": null,
      "margin": null,
      "max_height": null,
      "max_width": null,
      "min_height": null,
      "min_width": null,
      "object_fit": null,
      "object_position": null,
      "order": null,
      "overflow": null,
      "overflow_x": null,
      "overflow_y": null,
      "padding": null,
      "right": null,
      "top": null,
      "visibility": null,
      "width": null
     }
    },
    "88c55c81e424489aa140e9b70ec3131b": {
     "model_module": "@jupyter-widgets/controls",
     "model_module_version": "1.5.0",
     "model_name": "HTMLModel",
     "state": {
      "_dom_classes": [],
      "_model_module": "@jupyter-widgets/controls",
      "_model_module_version": "1.5.0",
      "_model_name": "HTMLModel",
      "_view_count": null,
      "_view_module": "@jupyter-widgets/controls",
      "_view_module_version": "1.5.0",
      "_view_name": "HTMLView",
      "description": "",
      "description_tooltip": null,
      "layout": "IPY_MODEL_96fd93a31b6547669a69a1b717ea946d",
      "placeholder": "​",
      "style": "IPY_MODEL_835c7ea07aa94c3fb7f3ae826b782c88",
      "value": " 1.11G/1.11G [00:27&lt;00:00, 42.0MB/s]"
     }
    },
    "8e6493f95bf5418c96d1771223ae913a": {
     "model_module": "@jupyter-widgets/controls",
     "model_module_version": "1.5.0",
     "model_name": "HTMLModel",
     "state": {
      "_dom_classes": [],
      "_model_module": "@jupyter-widgets/controls",
      "_model_module_version": "1.5.0",
      "_model_name": "HTMLModel",
      "_view_count": null,
      "_view_module": "@jupyter-widgets/controls",
      "_view_module_version": "1.5.0",
      "_view_name": "HTMLView",
      "description": "",
      "description_tooltip": null,
      "layout": "IPY_MODEL_e4f28072de714abda8549757f610a573",
      "placeholder": "​",
      "style": "IPY_MODEL_10f0fa20a30c464aabbc86aa96466fdf",
      "value": " 79.0/79.0 [00:00&lt;00:00, 3.80kB/s]"
     }
    },
    "8eaab1e7b2c24f8a924a6df3e09477b3": {
     "model_module": "@jupyter-widgets/base",
     "model_module_version": "1.2.0",
     "model_name": "LayoutModel",
     "state": {
      "_model_module": "@jupyter-widgets/base",
      "_model_module_version": "1.2.0",
      "_model_name": "LayoutModel",
      "_view_count": null,
      "_view_module": "@jupyter-widgets/base",
      "_view_module_version": "1.2.0",
      "_view_name": "LayoutView",
      "align_content": null,
      "align_items": null,
      "align_self": null,
      "border": null,
      "bottom": null,
      "display": null,
      "flex": null,
      "flex_flow": null,
      "grid_area": null,
      "grid_auto_columns": null,
      "grid_auto_flow": null,
      "grid_auto_rows": null,
      "grid_column": null,
      "grid_gap": null,
      "grid_row": null,
      "grid_template_areas": null,
      "grid_template_columns": null,
      "grid_template_rows": null,
      "height": null,
      "justify_content": null,
      "justify_items": null,
      "left": null,
      "margin": null,
      "max_height": null,
      "max_width": null,
      "min_height": null,
      "min_width": null,
      "object_fit": null,
      "object_position": null,
      "order": null,
      "overflow": null,
      "overflow_x": null,
      "overflow_y": null,
      "padding": null,
      "right": null,
      "top": null,
      "visibility": null,
      "width": null
     }
    },
    "949b408bb7e649ce9fa66fcf49e34227": {
     "model_module": "@jupyter-widgets/controls",
     "model_module_version": "1.5.0",
     "model_name": "ProgressStyleModel",
     "state": {
      "_model_module": "@jupyter-widgets/controls",
      "_model_module_version": "1.5.0",
      "_model_name": "ProgressStyleModel",
      "_view_count": null,
      "_view_module": "@jupyter-widgets/base",
      "_view_module_version": "1.2.0",
      "_view_name": "StyleView",
      "bar_color": null,
      "description_width": ""
     }
    },
    "96fd93a31b6547669a69a1b717ea946d": {
     "model_module": "@jupyter-widgets/base",
     "model_module_version": "1.2.0",
     "model_name": "LayoutModel",
     "state": {
      "_model_module": "@jupyter-widgets/base",
      "_model_module_version": "1.2.0",
      "_model_name": "LayoutModel",
      "_view_count": null,
      "_view_module": "@jupyter-widgets/base",
      "_view_module_version": "1.2.0",
      "_view_name": "LayoutView",
      "align_content": null,
      "align_items": null,
      "align_self": null,
      "border": null,
      "bottom": null,
      "display": null,
      "flex": null,
      "flex_flow": null,
      "grid_area": null,
      "grid_auto_columns": null,
      "grid_auto_flow": null,
      "grid_auto_rows": null,
      "grid_column": null,
      "grid_gap": null,
      "grid_row": null,
      "grid_template_areas": null,
      "grid_template_columns": null,
      "grid_template_rows": null,
      "height": null,
      "justify_content": null,
      "justify_items": null,
      "left": null,
      "margin": null,
      "max_height": null,
      "max_width": null,
      "min_height": null,
      "min_width": null,
      "object_fit": null,
      "object_position": null,
      "order": null,
      "overflow": null,
      "overflow_x": null,
      "overflow_y": null,
      "padding": null,
      "right": null,
      "top": null,
      "visibility": null,
      "width": null
     }
    },
    "97c272f30ef84b73ad7e60748bd6d431": {
     "model_module": "@jupyter-widgets/controls",
     "model_module_version": "1.5.0",
     "model_name": "HBoxModel",
     "state": {
      "_dom_classes": [],
      "_model_module": "@jupyter-widgets/controls",
      "_model_module_version": "1.5.0",
      "_model_name": "HBoxModel",
      "_view_count": null,
      "_view_module": "@jupyter-widgets/controls",
      "_view_module_version": "1.5.0",
      "_view_name": "HBoxView",
      "box_style": "",
      "children": [
       "IPY_MODEL_c96eee2443584b7b91ef3927a236474b",
       "IPY_MODEL_5306911bfaf34a25a4844d7a864ccfb0",
       "IPY_MODEL_ac95f2b379f5435393a9821584c27f17"
      ],
      "layout": "IPY_MODEL_bc151e58a83a48a3bd79c006afd1ecb9"
     }
    },
    "980595ee1e90468d9ded801df9f228d3": {
     "model_module": "@jupyter-widgets/controls",
     "model_module_version": "1.5.0",
     "model_name": "HTMLModel",
     "state": {
      "_dom_classes": [],
      "_model_module": "@jupyter-widgets/controls",
      "_model_module_version": "1.5.0",
      "_model_name": "HTMLModel",
      "_view_count": null,
      "_view_module": "@jupyter-widgets/controls",
      "_view_module_version": "1.5.0",
      "_view_name": "HTMLView",
      "description": "",
      "description_tooltip": null,
      "layout": "IPY_MODEL_e4bae6f330b14551913444f107f57b83",
      "placeholder": "​",
      "style": "IPY_MODEL_2886b3bb6f1347318feb07be7887a93a",
      "value": "Downloading (…)lve/main/config.json: 100%"
     }
    },
    "ac95f2b379f5435393a9821584c27f17": {
     "model_module": "@jupyter-widgets/controls",
     "model_module_version": "1.5.0",
     "model_name": "HTMLModel",
     "state": {
      "_dom_classes": [],
      "_model_module": "@jupyter-widgets/controls",
      "_model_module_version": "1.5.0",
      "_model_name": "HTMLModel",
      "_view_count": null,
      "_view_module": "@jupyter-widgets/controls",
      "_view_module_version": "1.5.0",
      "_view_name": "HTMLView",
      "description": "",
      "description_tooltip": null,
      "layout": "IPY_MODEL_5aab475e368343c3a033f176954d5c29",
      "placeholder": "​",
      "style": "IPY_MODEL_cc26dd2679b443ad940dd2ff539aa070",
      "value": " 5.07M/5.07M [00:00&lt;00:00, 6.99MB/s]"
     }
    },
    "affb7ce89e834ff7994930e15e1d3de7": {
     "model_module": "@jupyter-widgets/controls",
     "model_module_version": "1.5.0",
     "model_name": "FloatProgressModel",
     "state": {
      "_dom_classes": [],
      "_model_module": "@jupyter-widgets/controls",
      "_model_module_version": "1.5.0",
      "_model_name": "FloatProgressModel",
      "_view_count": null,
      "_view_module": "@jupyter-widgets/controls",
      "_view_module_version": "1.5.0",
      "_view_name": "ProgressView",
      "bar_style": "success",
      "description": "",
      "description_tooltip": null,
      "layout": "IPY_MODEL_5cd81d87bc094a71a2656737ac729864",
      "max": 605,
      "min": 0,
      "orientation": "horizontal",
      "style": "IPY_MODEL_4ae1c87c454f49d988a5ff2c904f741e",
      "value": 605
     }
    },
    "b197d150d8c1472aa63ae955f00674bb": {
     "model_module": "@jupyter-widgets/controls",
     "model_module_version": "1.5.0",
     "model_name": "HBoxModel",
     "state": {
      "_dom_classes": [],
      "_model_module": "@jupyter-widgets/controls",
      "_model_module_version": "1.5.0",
      "_model_name": "HBoxModel",
      "_view_count": null,
      "_view_module": "@jupyter-widgets/controls",
      "_view_module_version": "1.5.0",
      "_view_name": "HBoxView",
      "box_style": "",
      "children": [
       "IPY_MODEL_bf329fd752134b60b61f38a81dd951d0",
       "IPY_MODEL_038556544daf4c63a4ae39c6e76653d7",
       "IPY_MODEL_88c55c81e424489aa140e9b70ec3131b"
      ],
      "layout": "IPY_MODEL_4ed37699681d4e60b52551148784c801"
     }
    },
    "b35b861fb317405ab14bd97c34b58f6d": {
     "model_module": "@jupyter-widgets/controls",
     "model_module_version": "1.5.0",
     "model_name": "DescriptionStyleModel",
     "state": {
      "_model_module": "@jupyter-widgets/controls",
      "_model_module_version": "1.5.0",
      "_model_name": "DescriptionStyleModel",
      "_view_count": null,
      "_view_module": "@jupyter-widgets/base",
      "_view_module_version": "1.2.0",
      "_view_name": "StyleView",
      "description_width": ""
     }
    },
    "b36c7cbfc6574f4aa33e752981a11dd4": {
     "model_module": "@jupyter-widgets/base",
     "model_module_version": "1.2.0",
     "model_name": "LayoutModel",
     "state": {
      "_model_module": "@jupyter-widgets/base",
      "_model_module_version": "1.2.0",
      "_model_name": "LayoutModel",
      "_view_count": null,
      "_view_module": "@jupyter-widgets/base",
      "_view_module_version": "1.2.0",
      "_view_name": "LayoutView",
      "align_content": null,
      "align_items": null,
      "align_self": null,
      "border": null,
      "bottom": null,
      "display": null,
      "flex": null,
      "flex_flow": null,
      "grid_area": null,
      "grid_auto_columns": null,
      "grid_auto_flow": null,
      "grid_auto_rows": null,
      "grid_column": null,
      "grid_gap": null,
      "grid_row": null,
      "grid_template_areas": null,
      "grid_template_columns": null,
      "grid_template_rows": null,
      "height": null,
      "justify_content": null,
      "justify_items": null,
      "left": null,
      "margin": null,
      "max_height": null,
      "max_width": null,
      "min_height": null,
      "min_width": null,
      "object_fit": null,
      "object_position": null,
      "order": null,
      "overflow": null,
      "overflow_x": null,
      "overflow_y": null,
      "padding": null,
      "right": null,
      "top": null,
      "visibility": null,
      "width": null
     }
    },
    "bc151e58a83a48a3bd79c006afd1ecb9": {
     "model_module": "@jupyter-widgets/base",
     "model_module_version": "1.2.0",
     "model_name": "LayoutModel",
     "state": {
      "_model_module": "@jupyter-widgets/base",
      "_model_module_version": "1.2.0",
      "_model_name": "LayoutModel",
      "_view_count": null,
      "_view_module": "@jupyter-widgets/base",
      "_view_module_version": "1.2.0",
      "_view_name": "LayoutView",
      "align_content": null,
      "align_items": null,
      "align_self": null,
      "border": null,
      "bottom": null,
      "display": null,
      "flex": null,
      "flex_flow": null,
      "grid_area": null,
      "grid_auto_columns": null,
      "grid_auto_flow": null,
      "grid_auto_rows": null,
      "grid_column": null,
      "grid_gap": null,
      "grid_row": null,
      "grid_template_areas": null,
      "grid_template_columns": null,
      "grid_template_rows": null,
      "height": null,
      "justify_content": null,
      "justify_items": null,
      "left": null,
      "margin": null,
      "max_height": null,
      "max_width": null,
      "min_height": null,
      "min_width": null,
      "object_fit": null,
      "object_position": null,
      "order": null,
      "overflow": null,
      "overflow_x": null,
      "overflow_y": null,
      "padding": null,
      "right": null,
      "top": null,
      "visibility": null,
      "width": null
     }
    },
    "bf329fd752134b60b61f38a81dd951d0": {
     "model_module": "@jupyter-widgets/controls",
     "model_module_version": "1.5.0",
     "model_name": "HTMLModel",
     "state": {
      "_dom_classes": [],
      "_model_module": "@jupyter-widgets/controls",
      "_model_module_version": "1.5.0",
      "_model_name": "HTMLModel",
      "_view_count": null,
      "_view_module": "@jupyter-widgets/controls",
      "_view_module_version": "1.5.0",
      "_view_name": "HTMLView",
      "description": "",
      "description_tooltip": null,
      "layout": "IPY_MODEL_74c373d40fce4dccbbf64af2f1dcac1f",
      "placeholder": "​",
      "style": "IPY_MODEL_48e97d5ad5a94c318bc40c8c8504fa01",
      "value": "Downloading pytorch_model.bin: 100%"
     }
    },
    "c7d6af17bed44ab0bfcc571a9c93a7e3": {
     "model_module": "@jupyter-widgets/base",
     "model_module_version": "1.2.0",
     "model_name": "LayoutModel",
     "state": {
      "_model_module": "@jupyter-widgets/base",
      "_model_module_version": "1.2.0",
      "_model_name": "LayoutModel",
      "_view_count": null,
      "_view_module": "@jupyter-widgets/base",
      "_view_module_version": "1.2.0",
      "_view_name": "LayoutView",
      "align_content": null,
      "align_items": null,
      "align_self": null,
      "border": null,
      "bottom": null,
      "display": null,
      "flex": null,
      "flex_flow": null,
      "grid_area": null,
      "grid_auto_columns": null,
      "grid_auto_flow": null,
      "grid_auto_rows": null,
      "grid_column": null,
      "grid_gap": null,
      "grid_row": null,
      "grid_template_areas": null,
      "grid_template_columns": null,
      "grid_template_rows": null,
      "height": null,
      "justify_content": null,
      "justify_items": null,
      "left": null,
      "margin": null,
      "max_height": null,
      "max_width": null,
      "min_height": null,
      "min_width": null,
      "object_fit": null,
      "object_position": null,
      "order": null,
      "overflow": null,
      "overflow_x": null,
      "overflow_y": null,
      "padding": null,
      "right": null,
      "top": null,
      "visibility": null,
      "width": null
     }
    },
    "c96eee2443584b7b91ef3927a236474b": {
     "model_module": "@jupyter-widgets/controls",
     "model_module_version": "1.5.0",
     "model_name": "HTMLModel",
     "state": {
      "_dom_classes": [],
      "_model_module": "@jupyter-widgets/controls",
      "_model_module_version": "1.5.0",
      "_model_name": "HTMLModel",
      "_view_count": null,
      "_view_module": "@jupyter-widgets/controls",
      "_view_module_version": "1.5.0",
      "_view_name": "HTMLView",
      "description": "",
      "description_tooltip": null,
      "layout": "IPY_MODEL_7b75b8645afd416d9966f2339eee93ac",
      "placeholder": "​",
      "style": "IPY_MODEL_b35b861fb317405ab14bd97c34b58f6d",
      "value": "Downloading (…)tencepiece.bpe.model: 100%"
     }
    },
    "cc26dd2679b443ad940dd2ff539aa070": {
     "model_module": "@jupyter-widgets/controls",
     "model_module_version": "1.5.0",
     "model_name": "DescriptionStyleModel",
     "state": {
      "_model_module": "@jupyter-widgets/controls",
      "_model_module_version": "1.5.0",
      "_model_name": "DescriptionStyleModel",
      "_view_count": null,
      "_view_module": "@jupyter-widgets/base",
      "_view_module_version": "1.2.0",
      "_view_name": "StyleView",
      "description_width": ""
     }
    },
    "d2a4d99eb650404c9a620c8b705dde51": {
     "model_module": "@jupyter-widgets/base",
     "model_module_version": "1.2.0",
     "model_name": "LayoutModel",
     "state": {
      "_model_module": "@jupyter-widgets/base",
      "_model_module_version": "1.2.0",
      "_model_name": "LayoutModel",
      "_view_count": null,
      "_view_module": "@jupyter-widgets/base",
      "_view_module_version": "1.2.0",
      "_view_name": "LayoutView",
      "align_content": null,
      "align_items": null,
      "align_self": null,
      "border": null,
      "bottom": null,
      "display": null,
      "flex": null,
      "flex_flow": null,
      "grid_area": null,
      "grid_auto_columns": null,
      "grid_auto_flow": null,
      "grid_auto_rows": null,
      "grid_column": null,
      "grid_gap": null,
      "grid_row": null,
      "grid_template_areas": null,
      "grid_template_columns": null,
      "grid_template_rows": null,
      "height": null,
      "justify_content": null,
      "justify_items": null,
      "left": null,
      "margin": null,
      "max_height": null,
      "max_width": null,
      "min_height": null,
      "min_width": null,
      "object_fit": null,
      "object_position": null,
      "order": null,
      "overflow": null,
      "overflow_x": null,
      "overflow_y": null,
      "padding": null,
      "right": null,
      "top": null,
      "visibility": null,
      "width": null
     }
    },
    "d6fd08651d7d4609827ec1b414069361": {
     "model_module": "@jupyter-widgets/base",
     "model_module_version": "1.2.0",
     "model_name": "LayoutModel",
     "state": {
      "_model_module": "@jupyter-widgets/base",
      "_model_module_version": "1.2.0",
      "_model_name": "LayoutModel",
      "_view_count": null,
      "_view_module": "@jupyter-widgets/base",
      "_view_module_version": "1.2.0",
      "_view_name": "LayoutView",
      "align_content": null,
      "align_items": null,
      "align_self": null,
      "border": null,
      "bottom": null,
      "display": null,
      "flex": null,
      "flex_flow": null,
      "grid_area": null,
      "grid_auto_columns": null,
      "grid_auto_flow": null,
      "grid_auto_rows": null,
      "grid_column": null,
      "grid_gap": null,
      "grid_row": null,
      "grid_template_areas": null,
      "grid_template_columns": null,
      "grid_template_rows": null,
      "height": null,
      "justify_content": null,
      "justify_items": null,
      "left": null,
      "margin": null,
      "max_height": null,
      "max_width": null,
      "min_height": null,
      "min_width": null,
      "object_fit": null,
      "object_position": null,
      "order": null,
      "overflow": null,
      "overflow_x": null,
      "overflow_y": null,
      "padding": null,
      "right": null,
      "top": null,
      "visibility": null,
      "width": null
     }
    },
    "e4bae6f330b14551913444f107f57b83": {
     "model_module": "@jupyter-widgets/base",
     "model_module_version": "1.2.0",
     "model_name": "LayoutModel",
     "state": {
      "_model_module": "@jupyter-widgets/base",
      "_model_module_version": "1.2.0",
      "_model_name": "LayoutModel",
      "_view_count": null,
      "_view_module": "@jupyter-widgets/base",
      "_view_module_version": "1.2.0",
      "_view_name": "LayoutView",
      "align_content": null,
      "align_items": null,
      "align_self": null,
      "border": null,
      "bottom": null,
      "display": null,
      "flex": null,
      "flex_flow": null,
      "grid_area": null,
      "grid_auto_columns": null,
      "grid_auto_flow": null,
      "grid_auto_rows": null,
      "grid_column": null,
      "grid_gap": null,
      "grid_row": null,
      "grid_template_areas": null,
      "grid_template_columns": null,
      "grid_template_rows": null,
      "height": null,
      "justify_content": null,
      "justify_items": null,
      "left": null,
      "margin": null,
      "max_height": null,
      "max_width": null,
      "min_height": null,
      "min_width": null,
      "object_fit": null,
      "object_position": null,
      "order": null,
      "overflow": null,
      "overflow_x": null,
      "overflow_y": null,
      "padding": null,
      "right": null,
      "top": null,
      "visibility": null,
      "width": null
     }
    },
    "e4f28072de714abda8549757f610a573": {
     "model_module": "@jupyter-widgets/base",
     "model_module_version": "1.2.0",
     "model_name": "LayoutModel",
     "state": {
      "_model_module": "@jupyter-widgets/base",
      "_model_module_version": "1.2.0",
      "_model_name": "LayoutModel",
      "_view_count": null,
      "_view_module": "@jupyter-widgets/base",
      "_view_module_version": "1.2.0",
      "_view_name": "LayoutView",
      "align_content": null,
      "align_items": null,
      "align_self": null,
      "border": null,
      "bottom": null,
      "display": null,
      "flex": null,
      "flex_flow": null,
      "grid_area": null,
      "grid_auto_columns": null,
      "grid_auto_flow": null,
      "grid_auto_rows": null,
      "grid_column": null,
      "grid_gap": null,
      "grid_row": null,
      "grid_template_areas": null,
      "grid_template_columns": null,
      "grid_template_rows": null,
      "height": null,
      "justify_content": null,
      "justify_items": null,
      "left": null,
      "margin": null,
      "max_height": null,
      "max_width": null,
      "min_height": null,
      "min_width": null,
      "object_fit": null,
      "object_position": null,
      "order": null,
      "overflow": null,
      "overflow_x": null,
      "overflow_y": null,
      "padding": null,
      "right": null,
      "top": null,
      "visibility": null,
      "width": null
     }
    },
    "ec749640c0414f20850acc22bf9c8132": {
     "model_module": "@jupyter-widgets/base",
     "model_module_version": "1.2.0",
     "model_name": "LayoutModel",
     "state": {
      "_model_module": "@jupyter-widgets/base",
      "_model_module_version": "1.2.0",
      "_model_name": "LayoutModel",
      "_view_count": null,
      "_view_module": "@jupyter-widgets/base",
      "_view_module_version": "1.2.0",
      "_view_name": "LayoutView",
      "align_content": null,
      "align_items": null,
      "align_self": null,
      "border": null,
      "bottom": null,
      "display": null,
      "flex": null,
      "flex_flow": null,
      "grid_area": null,
      "grid_auto_columns": null,
      "grid_auto_flow": null,
      "grid_auto_rows": null,
      "grid_column": null,
      "grid_gap": null,
      "grid_row": null,
      "grid_template_areas": null,
      "grid_template_columns": null,
      "grid_template_rows": null,
      "height": null,
      "justify_content": null,
      "justify_items": null,
      "left": null,
      "margin": null,
      "max_height": null,
      "max_width": null,
      "min_height": null,
      "min_width": null,
      "object_fit": null,
      "object_position": null,
      "order": null,
      "overflow": null,
      "overflow_x": null,
      "overflow_y": null,
      "padding": null,
      "right": null,
      "top": null,
      "visibility": null,
      "width": null
     }
    },
    "f0ac60e7e9c14d2aa6f5662e7b973232": {
     "model_module": "@jupyter-widgets/base",
     "model_module_version": "1.2.0",
     "model_name": "LayoutModel",
     "state": {
      "_model_module": "@jupyter-widgets/base",
      "_model_module_version": "1.2.0",
      "_model_name": "LayoutModel",
      "_view_count": null,
      "_view_module": "@jupyter-widgets/base",
      "_view_module_version": "1.2.0",
      "_view_name": "LayoutView",
      "align_content": null,
      "align_items": null,
      "align_self": null,
      "border": null,
      "bottom": null,
      "display": null,
      "flex": null,
      "flex_flow": null,
      "grid_area": null,
      "grid_auto_columns": null,
      "grid_auto_flow": null,
      "grid_auto_rows": null,
      "grid_column": null,
      "grid_gap": null,
      "grid_row": null,
      "grid_template_areas": null,
      "grid_template_columns": null,
      "grid_template_rows": null,
      "height": null,
      "justify_content": null,
      "justify_items": null,
      "left": null,
      "margin": null,
      "max_height": null,
      "max_width": null,
      "min_height": null,
      "min_width": null,
      "object_fit": null,
      "object_position": null,
      "order": null,
      "overflow": null,
      "overflow_x": null,
      "overflow_y": null,
      "padding": null,
      "right": null,
      "top": null,
      "visibility": null,
      "width": null
     }
    },
    "f13551897baa44ad98c2151de38c1158": {
     "model_module": "@jupyter-widgets/controls",
     "model_module_version": "1.5.0",
     "model_name": "DescriptionStyleModel",
     "state": {
      "_model_module": "@jupyter-widgets/controls",
      "_model_module_version": "1.5.0",
      "_model_name": "DescriptionStyleModel",
      "_view_count": null,
      "_view_module": "@jupyter-widgets/base",
      "_view_module_version": "1.2.0",
      "_view_name": "StyleView",
      "description_width": ""
     }
    }
   }
  }
 },
 "nbformat": 4,
 "nbformat_minor": 0
}
